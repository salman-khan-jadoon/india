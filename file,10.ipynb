{
 "cells": [
  {
   "cell_type": "code",
   "execution_count": 4,
   "metadata": {},
   "outputs": [],
   "source": [
    "camel=int(input(\"please enter number of camel\"))\n",
    "def camel_zakat(camel):\n",
    "    if camel <= 5:\n",
    "        print(\"camel is not zakat\")\n",
    "    elif camel >=5 and camel <= 10:\n",
    "        print(\"one yras goat\")\n",
    "    elif camel >=10 and camel <=15:\n",
    "        print(\"two goat\")\n",
    "    elif camel >=15 and camel <=20:\n",
    "        print(\"three goat\")\n",
    "    elif camel >=15 and camel <=25:\n",
    "        print(\"four goat\")\n",
    "    elif camel >=25 and camel <=35:\n",
    "        print(\"one years camel \")\n",
    "    elif camel >=35 and camel <=45:\n",
    "        print(\"two yrars camel\")\n",
    "    elif camel >=45 and camel <=60:\n",
    "        print(\"three years camel\")\n",
    "    elif camel >=60 and camel <=75:\n",
    "        print(\"four years camel \")\n",
    "    elif camel <=75 and camel <=90:\n",
    "        print(\"two years two camel \")\n",
    "    elif camel >=90 and camel <=120:\n",
    "        print(\"one camel two years on thirty and fourty three years\")\n",
    "    print(\"camel zakat\")\n",
    "\n",
    "    \n",
    "    camel_zakat(camel)\n",
    "\n",
    "    \n"
   ]
  },
  {
   "cell_type": "code",
   "execution_count": null,
   "metadata": {},
   "outputs": [],
   "source": []
  }
 ],
 "metadata": {
  "kernelspec": {
   "display_name": "Python 3",
   "language": "python",
   "name": "python3"
  },
  "language_info": {
   "codemirror_mode": {
    "name": "ipython",
    "version": 3
   },
   "file_extension": ".py",
   "mimetype": "text/x-python",
   "name": "python",
   "nbconvert_exporter": "python",
   "pygments_lexer": "ipython3",
   "version": "3.12.4"
  }
 },
 "nbformat": 4,
 "nbformat_minor": 2
}
